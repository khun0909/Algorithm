{
 "cells": [
  {
   "cell_type": "markdown",
   "metadata": {},
   "source": [
    "### 숫자 찾기 게임\n",
    "\n",
    "1. 특정 숫자를 발생시키기\n",
    "2. 발생한 숫자를 찾아서 맞추는 코드 작성"
   ]
  },
  {
   "cell_type": "code",
   "execution_count": 16,
   "metadata": {},
   "outputs": [
    {
     "name": "stdout",
     "output_type": "stream",
     "text": [
      "19 찾았다!\n",
      "18 번만에 찾았다.\n"
     ]
    }
   ],
   "source": [
    "import random   #무작위로 데이터를 만들기 위해\n",
    "\n",
    "findNumber = random.randrange(1, 101)  # 1~100사이 임의의 숫자 발생\n",
    "cnt = 0\n",
    "#숫자 맞추기\n",
    "for i in range(1, 101):\n",
    "    if i == findNumber:\n",
    "        print(i, '찾았다!')\n",
    "        print(cnt, '번만에 찾았다.')\n",
    "        break\n",
    "    cnt += 1"
   ]
  },
  {
   "cell_type": "markdown",
   "metadata": {},
   "source": [
    "### 자료구조"
   ]
  },
  {
   "cell_type": "markdown",
   "metadata": {},
   "source": [
    "### 1. 배열과 리스트"
   ]
  },
  {
   "cell_type": "code",
   "execution_count": 17,
   "metadata": {},
   "outputs": [
    {
     "name": "stdout",
     "output_type": "stream",
     "text": [
      "[1 2 3 4 5]\n",
      "[1, 2, '3', 4, [5]]\n"
     ]
    }
   ],
   "source": [
    "import numpy as np\n",
    "\n",
    "arr = np.array([1, 2, 3, 4, 5])   # 배열: 데이터 타입이 같은 값들의 집합\n",
    "lst = [1, 2, \"3\", 4, [5]]         # 리스트: 데이터 타입이 다른 값들의 집합\n",
    "\n",
    "print(arr)\n",
    "print(lst)"
   ]
  },
  {
   "cell_type": "code",
   "execution_count": 18,
   "metadata": {},
   "outputs": [
    {
     "name": "stdout",
     "output_type": "stream",
     "text": [
      "['1' '2' '3' '4' '5']\n",
      "[1, 2, '3', 4, [5]]\n"
     ]
    }
   ],
   "source": [
    "import numpy as np\n",
    "\n",
    "arr = np.array([1, 2, '3', 4, 5])   # 배열: 다른 타입의 값 입력시 가장 큰 자료형 타입으로 변환\n",
    "lst = [1, 2, \"3\", 4, [5]]         # 리스트: 데이터 타입이 다른 값들의 집합\n",
    "\n",
    "print(arr)\n",
    "print(lst)"
   ]
  },
  {
   "cell_type": "code",
   "execution_count": 21,
   "metadata": {},
   "outputs": [
    {
     "name": "stdout",
     "output_type": "stream",
     "text": [
      "['1', '2', '3', '4', '5']\n",
      "15\n"
     ]
    }
   ],
   "source": [
    "n = input()   #숫자 개수\n",
    "numbers = list(input())  #숫자 리스트\n",
    "sum = 0       #합계 계산 변수\n",
    "\n",
    "print(numbers)\n",
    "\n",
    "for i in numbers:\n",
    "    sum += int(i)\n",
    "    \n",
    "print(sum)"
   ]
  }
 ],
 "metadata": {
  "kernelspec": {
   "display_name": "Python 3.11.4 64-bit",
   "language": "python",
   "name": "python3"
  },
  "language_info": {
   "codemirror_mode": {
    "name": "ipython",
    "version": 3
   },
   "file_extension": ".py",
   "mimetype": "text/x-python",
   "name": "python",
   "nbconvert_exporter": "python",
   "pygments_lexer": "ipython3",
   "version": "3.11.4"
  },
  "orig_nbformat": 4,
  "vscode": {
   "interpreter": {
    "hash": "aee8b7b246df8f9039afb4144a1f6fd8d2ca17a180786b69acc140d282b71a49"
   }
  }
 },
 "nbformat": 4,
 "nbformat_minor": 2
}
